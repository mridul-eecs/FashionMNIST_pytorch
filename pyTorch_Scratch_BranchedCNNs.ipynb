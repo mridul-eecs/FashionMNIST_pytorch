{
  "nbformat": 4,
  "nbformat_minor": 0,
  "metadata": {
    "colab": {
      "name": "pyTorch_Scratch_BranchedCNNs.ipynb",
      "provenance": [],
      "collapsed_sections": [],
      "include_colab_link": true
    },
    "kernelspec": {
      "name": "python3",
      "display_name": "Python 3"
    },
    "accelerator": "GPU"
  },
  "cells": [
    {
      "cell_type": "markdown",
      "metadata": {
        "id": "view-in-github",
        "colab_type": "text"
      },
      "source": [
        "<a href=\"https://colab.research.google.com/github/mridul-eecs/FashionMNIST_pytorch/blob/master/pyTorch_Scratch_BranchedCNNs.ipynb\" target=\"_parent\"><img src=\"https://colab.research.google.com/assets/colab-badge.svg\" alt=\"Open In Colab\"/></a>"
      ]
    },
    {
      "cell_type": "code",
      "metadata": {
        "id": "HfI285wbmLWg",
        "colab_type": "code",
        "colab": {}
      },
      "source": [
        "import torch\n",
        "import torchvision\n",
        "import torch.nn as nn\n",
        "import torch.nn.functional as f\n",
        "import torch.optim as optimas \n",
        "import numpy as np"
      ],
      "execution_count": 0,
      "outputs": []
    },
    {
      "cell_type": "code",
      "metadata": {
        "id": "Y7xcAqtXo5ZW",
        "colab_type": "code",
        "outputId": "570292a8-b3ab-447e-8276-71ce0154a68a",
        "colab": {
          "base_uri": "https://localhost:8080/",
          "height": 52
        }
      },
      "source": [
        "# setting the device for workout\n",
        "\n",
        "print(torch.cuda.is_available())\n",
        "device= torch.device('cuda:0' if torch.cuda.is_available() else 'cpu')\n",
        "device"
      ],
      "execution_count": 0,
      "outputs": [
        {
          "output_type": "stream",
          "text": [
            "True\n"
          ],
          "name": "stdout"
        },
        {
          "output_type": "execute_result",
          "data": {
            "text/plain": [
              "device(type='cuda', index=0)"
            ]
          },
          "metadata": {
            "tags": []
          },
          "execution_count": 2
        }
      ]
    },
    {
      "cell_type": "code",
      "metadata": {
        "id": "kxglv-gkrwpK",
        "colab_type": "code",
        "outputId": "ad3d3564-469f-43ba-f947-51d2f4ae3104",
        "colab": {
          "base_uri": "https://localhost:8080/",
          "height": 567
        }
      },
      "source": [
        "# importing the dataset \n",
        "import torchvision.transforms as transform\n",
        "import matplotlib.pyplot as plt\n",
        "\n",
        "train_dataset= torchvision.datasets.FashionMNIST(root= 'data/', train= True, download= True, transform= transform.ToTensor())\n",
        "test_dataset= torchvision.datasets.FashionMNIST(root= 'data/', train= False, download= True, transform= transform.ToTensor())\n",
        "\n",
        "batch_size= 100\n",
        "train_loader= torch.utils.data.DataLoader(dataset= train_dataset, batch_size= batch_size, shuffle= True)\n",
        "test_loader= torch.utils.data.DataLoader(dataset= test_dataset, batch_size= batch_size, shuffle= True)\n",
        "\n",
        "\n",
        "# about our dataset\n",
        "print(\"Size of our training set:\", len(train_dataset))\n",
        "print(\"Size of our test set:\", len(test_dataset))\n",
        "print(\"Bincounts:\", train_dataset.targets.bincount());\n",
        "\n",
        "mapping = {\n",
        "    0:'Top', 1:'Trousers', 2:'Pullover', 3:'Dress', 4:'Coat'\n",
        "    ,5:'Sandal', 6:'Shirt', 7:'Sneaker', 8:'Bag', 9:'Ankle Boot'\n",
        "}\n",
        "\n",
        "display_loader= torch.utils.data.DataLoader(dataset= train_dataset, batch_size= 1)\n",
        "batch= next(iter(display_loader))\n",
        "images, labels= batch\n",
        "print(\"Input tensor shape:\", images.shape)\n",
        "print(\"Labels shape:\", labels.shape)\n",
        "\n",
        "fig= plt.figure(figsize= (12, 3))\n",
        "for i, batch in enumerate(display_loader, start= 1):\n",
        "  images, labels= batch\n",
        "  ax= fig.add_subplot(2, 10, i)  \n",
        "  ax.imshow(images.reshape(28, 28), cmap= 'gray')\n",
        "  ax.set_title(mapping[labels.item()])\n",
        "  if i >= 20:\n",
        "    break \n",
        "plt.show()\n",
        "\n",
        "\n"
      ],
      "execution_count": 0,
      "outputs": [
        {
          "output_type": "stream",
          "text": [
            "  0%|          | 98304/26421880 [00:00<00:28, 933986.76it/s]"
          ],
          "name": "stderr"
        },
        {
          "output_type": "stream",
          "text": [
            "Downloading http://fashion-mnist.s3-website.eu-central-1.amazonaws.com/train-images-idx3-ubyte.gz to data/FashionMNIST/raw/train-images-idx3-ubyte.gz\n"
          ],
          "name": "stdout"
        },
        {
          "output_type": "stream",
          "text": [
            "26427392it [00:00, 82445748.22it/s]                             \n"
          ],
          "name": "stderr"
        },
        {
          "output_type": "stream",
          "text": [
            "Extracting data/FashionMNIST/raw/train-images-idx3-ubyte.gz to data/FashionMNIST/raw\n"
          ],
          "name": "stdout"
        },
        {
          "output_type": "stream",
          "text": [
            "32768it [00:00, 537929.96it/s]\n",
            "4423680it [00:00, 34134262.60it/s]                           "
          ],
          "name": "stderr"
        },
        {
          "output_type": "stream",
          "text": [
            "Downloading http://fashion-mnist.s3-website.eu-central-1.amazonaws.com/train-labels-idx1-ubyte.gz to data/FashionMNIST/raw/train-labels-idx1-ubyte.gz\n",
            "Extracting data/FashionMNIST/raw/train-labels-idx1-ubyte.gz to data/FashionMNIST/raw\n",
            "Downloading http://fashion-mnist.s3-website.eu-central-1.amazonaws.com/t10k-images-idx3-ubyte.gz to data/FashionMNIST/raw/t10k-images-idx3-ubyte.gz\n",
            "Extracting data/FashionMNIST/raw/t10k-images-idx3-ubyte.gz to data/FashionMNIST/raw\n"
          ],
          "name": "stdout"
        },
        {
          "output_type": "stream",
          "text": [
            "\n",
            "8192it [00:00, 184396.67it/s]\n"
          ],
          "name": "stderr"
        },
        {
          "output_type": "stream",
          "text": [
            "Downloading http://fashion-mnist.s3-website.eu-central-1.amazonaws.com/t10k-labels-idx1-ubyte.gz to data/FashionMNIST/raw/t10k-labels-idx1-ubyte.gz\n",
            "Extracting data/FashionMNIST/raw/t10k-labels-idx1-ubyte.gz to data/FashionMNIST/raw\n",
            "Processing...\n",
            "Done!\n",
            "Size of our training set: 60000\n",
            "Size of our test set: 10000\n",
            "Bincounts: tensor([6000, 6000, 6000, 6000, 6000, 6000, 6000, 6000, 6000, 6000])\n",
            "Input tensor shape: torch.Size([1, 1, 28, 28])\n",
            "Labels shape: torch.Size([1])\n"
          ],
          "name": "stdout"
        },
        {
          "output_type": "display_data",
          "data": {
            "image/png": "[encoded data removed]",
            "text/plain": [
              "<Figure size 864x216 with 20 Axes>"
            ]
          },
          "metadata": {
            "tags": []
          }
        }
      ]
    },
    {
      "cell_type": "code",
      "metadata": {
        "id": "jRi2XIUlCddy",
        "colab_type": "code",
        "colab": {}
      },
      "source": [
        "class Net(nn.Module):\n",
        "    def __init__(self, num_classes= 10):\n",
        "        super().__init__()\n",
        "        self.conv1 = nn.Sequential(\n",
        "            nn.Conv2d(in_channels=1, out_channels=16, kernel_size=5),\n",
        "            # nn.init.kaiming_normal_(),\n",
        "            # nn.BatchNorm2d(16),\n",
        "            nn.ReLU(),\n",
        "            nn.Dropout2d(0.5),\n",
        "            nn.MaxPool2d(kernel_size= 2, stride= 2),\n",
        "\n",
        "            nn.Conv2d(in_channels=16, out_channels=32, kernel_size=3),\n",
        "            # nn.init.kaiming_normal_(),\n",
        "            # nn.BatchNorm2d(32),\n",
        "            nn.ReLU(),\n",
        "            nn.Dropout2d(0.5),\n",
        "            nn.MaxPool2d(kernel_size= 2, stride= 2),\n",
        "            # nn.Flatten()\n",
        "\n",
        "        )\n",
        "        self.conv1flatten= nn.Flatten()\n",
        "\n",
        "        self.conv2 = nn.Sequential(\n",
        "            nn.Conv2d(in_channels=1, out_channels=16, kernel_size=3),\n",
        "            # nn.init.kaiming_normal_(),\n",
        "            # nn.BatchNorm2d(16),\n",
        "            nn.ReLU(),\n",
        "            nn.Dropout2d(0.5),\n",
        "            nn.MaxPool2d(kernel_size= 2, stride= 2),\n",
        "\n",
        "            nn.Conv2d(in_channels=16, out_channels=32, kernel_size=2),\n",
        "            # nn.init.kaiming_normal_(),\n",
        "            # nn.BatchNorm2d(32),\n",
        "            nn.ReLU(),\n",
        "            nn.Dropout2d(0.5),\n",
        "            nn.MaxPool2d(kernel_size= 2, stride= 2),\n",
        "            # nn.Flatten()\n",
        "\n",
        "        )        \n",
        "        self.conv2flatten= nn.Flatten()\n",
        "\n",
        "        self.conv3 = nn.Sequential(\n",
        "            nn.Conv2d(in_channels=1, out_channels=16, kernel_size=9),\n",
        "            # nn.init.kaiming_normal_(),\n",
        "            # nn.BatchNorm2d(16),\n",
        "            nn.ReLU(),\n",
        "            nn.Dropout2d(0.5),\n",
        "            nn.MaxPool2d(kernel_size= 2, stride= 2),\n",
        "\n",
        "            nn.Conv2d(in_channels=16, out_channels=32, kernel_size=7),\n",
        "            # nn.init.kaiming_normal_(),\n",
        "            # nn.BatchNorm2d(32),\n",
        "            nn.ReLU(),\n",
        "            nn.Dropout2d(0.5),\n",
        "            nn.MaxPool2d(kernel_size= 2, stride= 2),\n",
        "            # nn.Flatten()\n",
        "\n",
        "        )        \n",
        "        \n",
        "        self.fc1 = nn.Sequential(\n",
        "            nn.Linear(in_features=1312, out_features=720), # 12 * 4 * 4 \n",
        "            # nn.init.kaiming_normal_(),\n",
        "            # nn.BatchNorm1d(1440),\n",
        "            nn.ReLU(),\n",
        "            nn.Dropout(0.5)\n",
        "        )\n",
        "        self.fc2 = nn.Sequential(\n",
        "            nn.Linear(in_features=720, out_features=360),\n",
        "            # nn.init.kaiming_normal_(),\n",
        "            # nn.BatchNorm1d(720),\n",
        "            nn.ReLU(),\n",
        "            nn.Dropout(0.5)\n",
        "        )\n",
        "        self.fc3 = nn.Sequential(\n",
        "            nn.Linear(in_features=360, out_features=180),\n",
        "            # nn.init.kaiming_normal_(),\n",
        "            # nn.BatchNorm1d(360),\n",
        "            nn.ReLU(),\n",
        "            nn.Dropout(0.5)\n",
        "        )\n",
        "        self.out = nn.Sequential(\n",
        "            nn.Linear(in_features=180, out_features= num_classes),\n",
        "            # nn.init.kaiming_normal_(),\n",
        "        )\n",
        "        \n",
        "\n",
        "    def forward(self, t):\n",
        "      # (1) input layer\n",
        "      t = t\n",
        "      t1= self.conv1(t)\n",
        "      t2= self.conv2(t)\n",
        "      t3= self.conv3(t)\n",
        "      t= torch.cat((self.conv1flatten(t1), self.conv2flatten(t2)), dim= 1)\n",
        "      t= self.fc1(t)\n",
        "      t= self.fc2(t)\n",
        "      t= self.fc3(t)\n",
        "      t= self.out(t)\n",
        "\n",
        "      return t3, t"
      ],
      "execution_count": 0,
      "outputs": []
    },
    {
      "cell_type": "code",
      "metadata": {
        "id": "AQRhobkVrtjo",
        "colab_type": "code",
        "colab": {}
      },
      "source": [
        "num_classes= 10\n",
        "model= Net(num_classes).to(device)\n"
      ],
      "execution_count": 0,
      "outputs": []
    },
    {
      "cell_type": "code",
      "metadata": {
        "id": "YM4J95mFtekO",
        "colab_type": "code",
        "outputId": "f736ff4d-7f50-4239-9fa3-c4ec06c819fc",
        "colab": {
          "base_uri": "https://localhost:8080/",
          "height": 941
        }
      },
      "source": [
        "model"
      ],
      "execution_count": 0,
      "outputs": [
        {
          "output_type": "execute_result",
          "data": {
            "text/plain": [
              "Net(\n",
              "  (conv1): Sequential(\n",
              "    (0): Conv2d(1, 16, kernel_size=(5, 5), stride=(1, 1))\n",
              "    (1): ReLU()\n",
              "    (2): Dropout2d(p=0.5, inplace=False)\n",
              "    (3): MaxPool2d(kernel_size=2, stride=2, padding=0, dilation=1, ceil_mode=False)\n",
              "    (4): Conv2d(16, 32, kernel_size=(3, 3), stride=(1, 1))\n",
              "    (5): ReLU()\n",
              "    (6): Dropout2d(p=0.5, inplace=False)\n",
              "    (7): MaxPool2d(kernel_size=2, stride=2, padding=0, dilation=1, ceil_mode=False)\n",
              "  )\n",
              "  (conv1flatten): Flatten()\n",
              "  (conv2): Sequential(\n",
              "    (0): Conv2d(1, 16, kernel_size=(3, 3), stride=(1, 1))\n",
              "    (1): ReLU()\n",
              "    (2): Dropout2d(p=0.5, inplace=False)\n",
              "    (3): MaxPool2d(kernel_size=2, stride=2, padding=0, dilation=1, ceil_mode=False)\n",
              "    (4): Conv2d(16, 32, kernel_size=(2, 2), stride=(1, 1))\n",
              "    (5): ReLU()\n",
              "    (6): Dropout2d(p=0.5, inplace=False)\n",
              "    (7): MaxPool2d(kernel_size=2, stride=2, padding=0, dilation=1, ceil_mode=False)\n",
              "  )\n",
              "  (conv2flatten): Flatten()\n",
              "  (conv3): Sequential(\n",
              "    (0): Conv2d(1, 16, kernel_size=(9, 9), stride=(1, 1))\n",
              "    (1): ReLU()\n",
              "    (2): Dropout2d(p=0.5, inplace=False)\n",
              "    (3): MaxPool2d(kernel_size=2, stride=2, padding=0, dilation=1, ceil_mode=False)\n",
              "    (4): Conv2d(16, 32, kernel_size=(7, 7), stride=(1, 1))\n",
              "    (5): ReLU()\n",
              "    (6): Dropout2d(p=0.5, inplace=False)\n",
              "    (7): MaxPool2d(kernel_size=2, stride=2, padding=0, dilation=1, ceil_mode=False)\n",
              "  )\n",
              "  (fc1): Sequential(\n",
              "    (0): Linear(in_features=1312, out_features=720, bias=True)\n",
              "    (1): ReLU()\n",
              "    (2): Dropout(p=0.5, inplace=False)\n",
              "  )\n",
              "  (fc2): Sequential(\n",
              "    (0): Linear(in_features=720, out_features=360, bias=True)\n",
              "    (1): ReLU()\n",
              "    (2): Dropout(p=0.5, inplace=False)\n",
              "  )\n",
              "  (fc3): Sequential(\n",
              "    (0): Linear(in_features=360, out_features=180, bias=True)\n",
              "    (1): ReLU()\n",
              "    (2): Dropout(p=0.5, inplace=False)\n",
              "  )\n",
              "  (out): Sequential(\n",
              "    (0): Linear(in_features=180, out_features=10, bias=True)\n",
              "  )\n",
              ")"
            ]
          },
          "metadata": {
            "tags": []
          },
          "execution_count": 116
        }
      ]
    },
    {
      "cell_type": "code",
      "metadata": {
        "id": "vkOcnOVWtfjx",
        "colab_type": "code",
        "outputId": "aa8e04e4-2c4e-485a-d119-5c6ddcdad8c1",
        "colab": {
          "base_uri": "https://localhost:8080/",
          "height": 405
        }
      },
      "source": [
        "# testing out model without training\n",
        "sample= next(iter(train_dataset))\n",
        "image, label= sample\n",
        "print(\"Shape of the input image:\", image.shape)\n",
        "\n",
        "layer, pred= model(image.unsqueeze(0).to(device))  \n",
        "print(\"Prediction:\", pred)\n",
        "print(\"Expected:\", mapping[label], \"| Prediction:\", mapping[pred.argmax().item()])\n",
        "\n",
        "def get_num_correct(preds, labels):\n",
        "    return preds.argmax(dim=1).eq(labels).sum().item()"
      ],
      "execution_count": 0,
      "outputs": [
        {
          "output_type": "stream",
          "text": [
            "Shape of the input image: torch.Size([1, 28, 28])\n"
          ],
          "name": "stdout"
        },
        {
          "output_type": "error",
          "ename": "RuntimeError",
          "evalue": "ignored",
          "traceback": [
            "\u001b[0;31m---------------------------------------------------------------------------\u001b[0m",
            "\u001b[0;31mRuntimeError\u001b[0m                              Traceback (most recent call last)",
            "\u001b[0;32m<ipython-input-117-d26ea79ed53d>\u001b[0m in \u001b[0;36m<module>\u001b[0;34m()\u001b[0m\n\u001b[1;32m      3\u001b[0m \u001b[0mprint\u001b[0m\u001b[0;34m(\u001b[0m\u001b[0;34m\"Shape of the input image:\"\u001b[0m\u001b[0;34m,\u001b[0m \u001b[0mimage\u001b[0m\u001b[0;34m.\u001b[0m\u001b[0mshape\u001b[0m\u001b[0;34m)\u001b[0m\u001b[0;34m\u001b[0m\u001b[0;34m\u001b[0m\u001b[0m\n\u001b[1;32m      4\u001b[0m \u001b[0;34m\u001b[0m\u001b[0m\n\u001b[0;32m----> 5\u001b[0;31m \u001b[0mlayer\u001b[0m\u001b[0;34m,\u001b[0m \u001b[0mpred\u001b[0m\u001b[0;34m=\u001b[0m \u001b[0mmodel\u001b[0m\u001b[0;34m(\u001b[0m\u001b[0mimage\u001b[0m\u001b[0;34m.\u001b[0m\u001b[0munsqueeze\u001b[0m\u001b[0;34m(\u001b[0m\u001b[0;36m0\u001b[0m\u001b[0;34m)\u001b[0m\u001b[0;34m.\u001b[0m\u001b[0mto\u001b[0m\u001b[0;34m(\u001b[0m\u001b[0mdevice\u001b[0m\u001b[0;34m)\u001b[0m\u001b[0;34m)\u001b[0m\u001b[0;34m\u001b[0m\u001b[0;34m\u001b[0m\u001b[0m\n\u001b[0m\u001b[1;32m      6\u001b[0m \u001b[0mprint\u001b[0m\u001b[0;34m(\u001b[0m\u001b[0;34m\"Prediction:\"\u001b[0m\u001b[0;34m,\u001b[0m \u001b[0mpred\u001b[0m\u001b[0;34m)\u001b[0m\u001b[0;34m\u001b[0m\u001b[0;34m\u001b[0m\u001b[0m\n\u001b[1;32m      7\u001b[0m \u001b[0mprint\u001b[0m\u001b[0;34m(\u001b[0m\u001b[0;34m\"Expected:\"\u001b[0m\u001b[0;34m,\u001b[0m \u001b[0mmapping\u001b[0m\u001b[0;34m[\u001b[0m\u001b[0mlabel\u001b[0m\u001b[0;34m]\u001b[0m\u001b[0;34m,\u001b[0m \u001b[0;34m\"| Prediction:\"\u001b[0m\u001b[0;34m,\u001b[0m \u001b[0mmapping\u001b[0m\u001b[0;34m[\u001b[0m\u001b[0mpred\u001b[0m\u001b[0;34m.\u001b[0m\u001b[0margmax\u001b[0m\u001b[0;34m(\u001b[0m\u001b[0;34m)\u001b[0m\u001b[0;34m.\u001b[0m\u001b[0mitem\u001b[0m\u001b[0;34m(\u001b[0m\u001b[0;34m)\u001b[0m\u001b[0;34m]\u001b[0m\u001b[0;34m)\u001b[0m\u001b[0;34m\u001b[0m\u001b[0;34m\u001b[0m\u001b[0m\n",
            "\u001b[0;32m/usr/local/lib/python3.6/dist-packages/torch/nn/modules/module.py\u001b[0m in \u001b[0;36m__call__\u001b[0;34m(self, *input, **kwargs)\u001b[0m\n\u001b[1;32m    539\u001b[0m             \u001b[0mresult\u001b[0m \u001b[0;34m=\u001b[0m \u001b[0mself\u001b[0m\u001b[0;34m.\u001b[0m\u001b[0m_slow_forward\u001b[0m\u001b[0;34m(\u001b[0m\u001b[0;34m*\u001b[0m\u001b[0minput\u001b[0m\u001b[0;34m,\u001b[0m \u001b[0;34m**\u001b[0m\u001b[0mkwargs\u001b[0m\u001b[0;34m)\u001b[0m\u001b[0;34m\u001b[0m\u001b[0;34m\u001b[0m\u001b[0m\n\u001b[1;32m    540\u001b[0m         \u001b[0;32melse\u001b[0m\u001b[0;34m:\u001b[0m\u001b[0;34m\u001b[0m\u001b[0;34m\u001b[0m\u001b[0m\n\u001b[0;32m--> 541\u001b[0;31m             \u001b[0mresult\u001b[0m \u001b[0;34m=\u001b[0m \u001b[0mself\u001b[0m\u001b[0;34m.\u001b[0m\u001b[0mforward\u001b[0m\u001b[0;34m(\u001b[0m\u001b[0;34m*\u001b[0m\u001b[0minput\u001b[0m\u001b[0;34m,\u001b[0m \u001b[0;34m**\u001b[0m\u001b[0mkwargs\u001b[0m\u001b[0;34m)\u001b[0m\u001b[0;34m\u001b[0m\u001b[0;34m\u001b[0m\u001b[0m\n\u001b[0m\u001b[1;32m    542\u001b[0m         \u001b[0;32mfor\u001b[0m \u001b[0mhook\u001b[0m \u001b[0;32min\u001b[0m \u001b[0mself\u001b[0m\u001b[0;34m.\u001b[0m\u001b[0m_forward_hooks\u001b[0m\u001b[0;34m.\u001b[0m\u001b[0mvalues\u001b[0m\u001b[0;34m(\u001b[0m\u001b[0;34m)\u001b[0m\u001b[0;34m:\u001b[0m\u001b[0;34m\u001b[0m\u001b[0;34m\u001b[0m\u001b[0m\n\u001b[1;32m    543\u001b[0m             \u001b[0mhook_result\u001b[0m \u001b[0;34m=\u001b[0m \u001b[0mhook\u001b[0m\u001b[0;34m(\u001b[0m\u001b[0mself\u001b[0m\u001b[0;34m,\u001b[0m \u001b[0minput\u001b[0m\u001b[0;34m,\u001b[0m \u001b[0mresult\u001b[0m\u001b[0;34m)\u001b[0m\u001b[0;34m\u001b[0m\u001b[0;34m\u001b[0m\u001b[0m\n",
            "\u001b[0;32m<ipython-input-114-05322ad4bee1>\u001b[0m in \u001b[0;36mforward\u001b[0;34m(self, t)\u001b[0m\n\u001b[1;32m     92\u001b[0m       \u001b[0mt3\u001b[0m\u001b[0;34m=\u001b[0m \u001b[0mself\u001b[0m\u001b[0;34m.\u001b[0m\u001b[0mconv3\u001b[0m\u001b[0;34m(\u001b[0m\u001b[0mt\u001b[0m\u001b[0;34m)\u001b[0m\u001b[0;34m\u001b[0m\u001b[0;34m\u001b[0m\u001b[0m\n\u001b[1;32m     93\u001b[0m       \u001b[0mt\u001b[0m\u001b[0;34m=\u001b[0m \u001b[0mtorch\u001b[0m\u001b[0;34m.\u001b[0m\u001b[0mcat\u001b[0m\u001b[0;34m(\u001b[0m\u001b[0;34m(\u001b[0m\u001b[0mself\u001b[0m\u001b[0;34m.\u001b[0m\u001b[0mconv1flatten\u001b[0m\u001b[0;34m(\u001b[0m\u001b[0mt1\u001b[0m\u001b[0;34m)\u001b[0m\u001b[0;34m,\u001b[0m \u001b[0mself\u001b[0m\u001b[0;34m.\u001b[0m\u001b[0mconv2flatten\u001b[0m\u001b[0;34m(\u001b[0m\u001b[0mt2\u001b[0m\u001b[0;34m)\u001b[0m\u001b[0;34m)\u001b[0m\u001b[0;34m,\u001b[0m \u001b[0mdim\u001b[0m\u001b[0;34m=\u001b[0m \u001b[0;36m1\u001b[0m\u001b[0;34m)\u001b[0m\u001b[0;34m\u001b[0m\u001b[0;34m\u001b[0m\u001b[0m\n\u001b[0;32m---> 94\u001b[0;31m       \u001b[0mt\u001b[0m\u001b[0;34m=\u001b[0m \u001b[0mself\u001b[0m\u001b[0;34m.\u001b[0m\u001b[0mfc1\u001b[0m\u001b[0;34m(\u001b[0m\u001b[0mt\u001b[0m\u001b[0;34m)\u001b[0m\u001b[0;34m\u001b[0m\u001b[0;34m\u001b[0m\u001b[0m\n\u001b[0m\u001b[1;32m     95\u001b[0m       \u001b[0mt\u001b[0m\u001b[0;34m=\u001b[0m \u001b[0mself\u001b[0m\u001b[0;34m.\u001b[0m\u001b[0mfc2\u001b[0m\u001b[0;34m(\u001b[0m\u001b[0mt\u001b[0m\u001b[0;34m)\u001b[0m\u001b[0;34m\u001b[0m\u001b[0;34m\u001b[0m\u001b[0m\n\u001b[1;32m     96\u001b[0m       \u001b[0mt\u001b[0m\u001b[0;34m=\u001b[0m \u001b[0mself\u001b[0m\u001b[0;34m.\u001b[0m\u001b[0mfc3\u001b[0m\u001b[0;34m(\u001b[0m\u001b[0mt\u001b[0m\u001b[0;34m)\u001b[0m\u001b[0;34m\u001b[0m\u001b[0;34m\u001b[0m\u001b[0m\n",
            "\u001b[0;32m/usr/local/lib/python3.6/dist-packages/torch/nn/modules/module.py\u001b[0m in \u001b[0;36m__call__\u001b[0;34m(self, *input, **kwargs)\u001b[0m\n\u001b[1;32m    539\u001b[0m             \u001b[0mresult\u001b[0m \u001b[0;34m=\u001b[0m \u001b[0mself\u001b[0m\u001b[0;34m.\u001b[0m\u001b[0m_slow_forward\u001b[0m\u001b[0;34m(\u001b[0m\u001b[0;34m*\u001b[0m\u001b[0minput\u001b[0m\u001b[0;34m,\u001b[0m \u001b[0;34m**\u001b[0m\u001b[0mkwargs\u001b[0m\u001b[0;34m)\u001b[0m\u001b[0;34m\u001b[0m\u001b[0;34m\u001b[0m\u001b[0m\n\u001b[1;32m    540\u001b[0m         \u001b[0;32melse\u001b[0m\u001b[0;34m:\u001b[0m\u001b[0;34m\u001b[0m\u001b[0;34m\u001b[0m\u001b[0m\n\u001b[0;32m--> 541\u001b[0;31m             \u001b[0mresult\u001b[0m \u001b[0;34m=\u001b[0m \u001b[0mself\u001b[0m\u001b[0;34m.\u001b[0m\u001b[0mforward\u001b[0m\u001b[0;34m(\u001b[0m\u001b[0;34m*\u001b[0m\u001b[0minput\u001b[0m\u001b[0;34m,\u001b[0m \u001b[0;34m**\u001b[0m\u001b[0mkwargs\u001b[0m\u001b[0;34m)\u001b[0m\u001b[0;34m\u001b[0m\u001b[0;34m\u001b[0m\u001b[0m\n\u001b[0m\u001b[1;32m    542\u001b[0m         \u001b[0;32mfor\u001b[0m \u001b[0mhook\u001b[0m \u001b[0;32min\u001b[0m \u001b[0mself\u001b[0m\u001b[0;34m.\u001b[0m\u001b[0m_forward_hooks\u001b[0m\u001b[0;34m.\u001b[0m\u001b[0mvalues\u001b[0m\u001b[0;34m(\u001b[0m\u001b[0;34m)\u001b[0m\u001b[0;34m:\u001b[0m\u001b[0;34m\u001b[0m\u001b[0;34m\u001b[0m\u001b[0m\n\u001b[1;32m    543\u001b[0m             \u001b[0mhook_result\u001b[0m \u001b[0;34m=\u001b[0m \u001b[0mhook\u001b[0m\u001b[0;34m(\u001b[0m\u001b[0mself\u001b[0m\u001b[0;34m,\u001b[0m \u001b[0minput\u001b[0m\u001b[0;34m,\u001b[0m \u001b[0mresult\u001b[0m\u001b[0;34m)\u001b[0m\u001b[0;34m\u001b[0m\u001b[0;34m\u001b[0m\u001b[0m\n",
            "\u001b[0;32m/usr/local/lib/python3.6/dist-packages/torch/nn/modules/container.py\u001b[0m in \u001b[0;36mforward\u001b[0;34m(self, input)\u001b[0m\n\u001b[1;32m     90\u001b[0m     \u001b[0;32mdef\u001b[0m \u001b[0mforward\u001b[0m\u001b[0;34m(\u001b[0m\u001b[0mself\u001b[0m\u001b[0;34m,\u001b[0m \u001b[0minput\u001b[0m\u001b[0;34m)\u001b[0m\u001b[0;34m:\u001b[0m\u001b[0;34m\u001b[0m\u001b[0;34m\u001b[0m\u001b[0m\n\u001b[1;32m     91\u001b[0m         \u001b[0;32mfor\u001b[0m \u001b[0mmodule\u001b[0m \u001b[0;32min\u001b[0m \u001b[0mself\u001b[0m\u001b[0;34m.\u001b[0m\u001b[0m_modules\u001b[0m\u001b[0;34m.\u001b[0m\u001b[0mvalues\u001b[0m\u001b[0;34m(\u001b[0m\u001b[0;34m)\u001b[0m\u001b[0;34m:\u001b[0m\u001b[0;34m\u001b[0m\u001b[0;34m\u001b[0m\u001b[0m\n\u001b[0;32m---> 92\u001b[0;31m             \u001b[0minput\u001b[0m \u001b[0;34m=\u001b[0m \u001b[0mmodule\u001b[0m\u001b[0;34m(\u001b[0m\u001b[0minput\u001b[0m\u001b[0;34m)\u001b[0m\u001b[0;34m\u001b[0m\u001b[0;34m\u001b[0m\u001b[0m\n\u001b[0m\u001b[1;32m     93\u001b[0m         \u001b[0;32mreturn\u001b[0m \u001b[0minput\u001b[0m\u001b[0;34m\u001b[0m\u001b[0;34m\u001b[0m\u001b[0m\n\u001b[1;32m     94\u001b[0m \u001b[0;34m\u001b[0m\u001b[0m\n",
            "\u001b[0;32m/usr/local/lib/python3.6/dist-packages/torch/nn/modules/module.py\u001b[0m in \u001b[0;36m__call__\u001b[0;34m(self, *input, **kwargs)\u001b[0m\n\u001b[1;32m    539\u001b[0m             \u001b[0mresult\u001b[0m \u001b[0;34m=\u001b[0m \u001b[0mself\u001b[0m\u001b[0;34m.\u001b[0m\u001b[0m_slow_forward\u001b[0m\u001b[0;34m(\u001b[0m\u001b[0;34m*\u001b[0m\u001b[0minput\u001b[0m\u001b[0;34m,\u001b[0m \u001b[0;34m**\u001b[0m\u001b[0mkwargs\u001b[0m\u001b[0;34m)\u001b[0m\u001b[0;34m\u001b[0m\u001b[0;34m\u001b[0m\u001b[0m\n\u001b[1;32m    540\u001b[0m         \u001b[0;32melse\u001b[0m\u001b[0;34m:\u001b[0m\u001b[0;34m\u001b[0m\u001b[0;34m\u001b[0m\u001b[0m\n\u001b[0;32m--> 541\u001b[0;31m             \u001b[0mresult\u001b[0m \u001b[0;34m=\u001b[0m \u001b[0mself\u001b[0m\u001b[0;34m.\u001b[0m\u001b[0mforward\u001b[0m\u001b[0;34m(\u001b[0m\u001b[0;34m*\u001b[0m\u001b[0minput\u001b[0m\u001b[0;34m,\u001b[0m \u001b[0;34m**\u001b[0m\u001b[0mkwargs\u001b[0m\u001b[0;34m)\u001b[0m\u001b[0;34m\u001b[0m\u001b[0;34m\u001b[0m\u001b[0m\n\u001b[0m\u001b[1;32m    542\u001b[0m         \u001b[0;32mfor\u001b[0m \u001b[0mhook\u001b[0m \u001b[0;32min\u001b[0m \u001b[0mself\u001b[0m\u001b[0;34m.\u001b[0m\u001b[0m_forward_hooks\u001b[0m\u001b[0;34m.\u001b[0m\u001b[0mvalues\u001b[0m\u001b[0;34m(\u001b[0m\u001b[0;34m)\u001b[0m\u001b[0;34m:\u001b[0m\u001b[0;34m\u001b[0m\u001b[0;34m\u001b[0m\u001b[0m\n\u001b[1;32m    543\u001b[0m             \u001b[0mhook_result\u001b[0m \u001b[0;34m=\u001b[0m \u001b[0mhook\u001b[0m\u001b[0;34m(\u001b[0m\u001b[0mself\u001b[0m\u001b[0;34m,\u001b[0m \u001b[0minput\u001b[0m\u001b[0;34m,\u001b[0m \u001b[0mresult\u001b[0m\u001b[0;34m)\u001b[0m\u001b[0;34m\u001b[0m\u001b[0;34m\u001b[0m\u001b[0m\n",
            "\u001b[0;32m/usr/local/lib/python3.6/dist-packages/torch/nn/modules/linear.py\u001b[0m in \u001b[0;36mforward\u001b[0;34m(self, input)\u001b[0m\n\u001b[1;32m     85\u001b[0m \u001b[0;34m\u001b[0m\u001b[0m\n\u001b[1;32m     86\u001b[0m     \u001b[0;32mdef\u001b[0m \u001b[0mforward\u001b[0m\u001b[0;34m(\u001b[0m\u001b[0mself\u001b[0m\u001b[0;34m,\u001b[0m \u001b[0minput\u001b[0m\u001b[0;34m)\u001b[0m\u001b[0;34m:\u001b[0m\u001b[0;34m\u001b[0m\u001b[0;34m\u001b[0m\u001b[0m\n\u001b[0;32m---> 87\u001b[0;31m         \u001b[0;32mreturn\u001b[0m \u001b[0mF\u001b[0m\u001b[0;34m.\u001b[0m\u001b[0mlinear\u001b[0m\u001b[0;34m(\u001b[0m\u001b[0minput\u001b[0m\u001b[0;34m,\u001b[0m \u001b[0mself\u001b[0m\u001b[0;34m.\u001b[0m\u001b[0mweight\u001b[0m\u001b[0;34m,\u001b[0m \u001b[0mself\u001b[0m\u001b[0;34m.\u001b[0m\u001b[0mbias\u001b[0m\u001b[0;34m)\u001b[0m\u001b[0;34m\u001b[0m\u001b[0;34m\u001b[0m\u001b[0m\n\u001b[0m\u001b[1;32m     88\u001b[0m \u001b[0;34m\u001b[0m\u001b[0m\n\u001b[1;32m     89\u001b[0m     \u001b[0;32mdef\u001b[0m \u001b[0mextra_repr\u001b[0m\u001b[0;34m(\u001b[0m\u001b[0mself\u001b[0m\u001b[0;34m)\u001b[0m\u001b[0;34m:\u001b[0m\u001b[0;34m\u001b[0m\u001b[0;34m\u001b[0m\u001b[0m\n",
            "\u001b[0;32m/usr/local/lib/python3.6/dist-packages/torch/nn/functional.py\u001b[0m in \u001b[0;36mlinear\u001b[0;34m(input, weight, bias)\u001b[0m\n\u001b[1;32m   1368\u001b[0m     \u001b[0;32mif\u001b[0m \u001b[0minput\u001b[0m\u001b[0;34m.\u001b[0m\u001b[0mdim\u001b[0m\u001b[0;34m(\u001b[0m\u001b[0;34m)\u001b[0m \u001b[0;34m==\u001b[0m \u001b[0;36m2\u001b[0m \u001b[0;32mand\u001b[0m \u001b[0mbias\u001b[0m \u001b[0;32mis\u001b[0m \u001b[0;32mnot\u001b[0m \u001b[0;32mNone\u001b[0m\u001b[0;34m:\u001b[0m\u001b[0;34m\u001b[0m\u001b[0;34m\u001b[0m\u001b[0m\n\u001b[1;32m   1369\u001b[0m         \u001b[0;31m# fused op is marginally faster\u001b[0m\u001b[0;34m\u001b[0m\u001b[0;34m\u001b[0m\u001b[0;34m\u001b[0m\u001b[0m\n\u001b[0;32m-> 1370\u001b[0;31m         \u001b[0mret\u001b[0m \u001b[0;34m=\u001b[0m \u001b[0mtorch\u001b[0m\u001b[0;34m.\u001b[0m\u001b[0maddmm\u001b[0m\u001b[0;34m(\u001b[0m\u001b[0mbias\u001b[0m\u001b[0;34m,\u001b[0m \u001b[0minput\u001b[0m\u001b[0;34m,\u001b[0m \u001b[0mweight\u001b[0m\u001b[0;34m.\u001b[0m\u001b[0mt\u001b[0m\u001b[0;34m(\u001b[0m\u001b[0;34m)\u001b[0m\u001b[0;34m)\u001b[0m\u001b[0;34m\u001b[0m\u001b[0;34m\u001b[0m\u001b[0m\n\u001b[0m\u001b[1;32m   1371\u001b[0m     \u001b[0;32melse\u001b[0m\u001b[0;34m:\u001b[0m\u001b[0;34m\u001b[0m\u001b[0;34m\u001b[0m\u001b[0m\n\u001b[1;32m   1372\u001b[0m         \u001b[0moutput\u001b[0m \u001b[0;34m=\u001b[0m \u001b[0minput\u001b[0m\u001b[0;34m.\u001b[0m\u001b[0mmatmul\u001b[0m\u001b[0;34m(\u001b[0m\u001b[0mweight\u001b[0m\u001b[0;34m.\u001b[0m\u001b[0mt\u001b[0m\u001b[0;34m(\u001b[0m\u001b[0;34m)\u001b[0m\u001b[0;34m)\u001b[0m\u001b[0;34m\u001b[0m\u001b[0;34m\u001b[0m\u001b[0m\n",
            "\u001b[0;31mRuntimeError\u001b[0m: size mismatch, m1: [1 x 1952], m2: [1312 x 720] at /pytorch/aten/src/THC/generic/THCTensorMathBlas.cu:290"
          ]
        }
      ]
    },
    {
      "cell_type": "code",
      "metadata": {
        "id": "X0CVtVuAqL4i",
        "colab_type": "code",
        "outputId": "7fd143be-4d03-4f3c-adaa-6f3fa2f8f7a3",
        "colab": {
          "base_uri": "https://localhost:8080/",
          "height": 52
        }
      },
      "source": [
        "print(model.conv2[0])\n",
        "print(layer.shape)\n"
      ],
      "execution_count": 0,
      "outputs": [
        {
          "output_type": "stream",
          "text": [
            "Conv2d(1, 16, kernel_size=(3, 3), stride=(1, 1))\n",
            "torch.Size([1, 32, 4, 4])\n"
          ],
          "name": "stdout"
        }
      ]
    },
    {
      "cell_type": "code",
      "metadata": {
        "id": "xVhMiE5WlKnc",
        "colab_type": "code",
        "outputId": "38af1254-e3c2-4f98-f3de-6e931e2371cf",
        "colab": {
          "base_uri": "https://localhost:8080/",
          "height": 161
        }
      },
      "source": [
        "# helper function for visualizing the output of a given layer\n",
        "# default number of filters is 4\n",
        "def viz_layer(layer, n_filters= 32):\n",
        "    fig = plt.figure(figsize=(62, 20))\n",
        "    \n",
        "    for i in range(n_filters):\n",
        "        ax = fig.add_subplot(1, n_filters, i+1, xticks=[], yticks=[])\n",
        "        # grab layer outputs\n",
        "        ax.imshow(np.squeeze(layer[0,i].data.numpy()), cmap='gray')\n",
        "        ax.set_title('Output %s' % str(i+1))\n",
        "viz_layer(layer.cpu())"
      ],
      "execution_count": 0,
      "outputs": [
        {
          "output_type": "display_data",
          "data": {
            "image/png": "[encoded data removed]",
            "text/plain": [
              "<Figure size 4464x1440 with 32 Axes>"
            ]
          },
          "metadata": {
            "tags": []
          }
        }
      ]
    },
    {
      "cell_type": "code",
      "metadata": {
        "id": "nzkXHynWNLVc",
        "colab_type": "code",
        "outputId": "a156bdef-6ee8-4f4e-f638-eb70153fac40",
        "colab": {
          "base_uri": "https://localhost:8080/",
          "height": 850
        }
      },
      "source": [
        "# network = model\n",
        "train_loader = torch.utils.data.DataLoader(train_dataset, batch_size=100)\n",
        "optimizer = optim.Adam(model.parameters(), lr=0.001)\n",
        "\n",
        "for epoch in range(50):\n",
        "\n",
        "  total_loss = 0\n",
        "  total_correct = 0\n",
        "\n",
        "  for batch in train_loader: # Get Batch\n",
        "\n",
        "      images, labels = batch \n",
        "\n",
        "      images= images.to(device)\n",
        "      labels= labels.to(device)\n",
        "\n",
        "      preds = model(images) # Pass Batch\n",
        "      loss = f.cross_entropy(preds, labels) # Calculate Loss\n",
        "\n",
        "      optimizer.zero_grad()\n",
        "      loss.backward() # Calculate Gradients\n",
        "      optimizer.step() # Update Weights\n",
        "\n",
        "      total_loss += loss.item()\n",
        "      total_correct += get_num_correct(preds, labels)\n",
        "      \n",
        "  print(\n",
        "      \"epoch:\", epoch, \n",
        "      \"total_correct:\", total_correct, \n",
        "      \"loss:\", total_loss\n",
        "  )"
      ],
      "execution_count": 0,
      "outputs": [
        {
          "output_type": "stream",
          "text": [
            "epoch: 0 total_correct: 39824 loss: 530.7761318087578\n",
            "epoch: 1 total_correct: 47543 loss: 335.7817859351635\n",
            "epoch: 2 total_correct: 49291 loss: 294.705487459898\n",
            "epoch: 3 total_correct: 50319 loss: 271.8321807682514\n",
            "epoch: 4 total_correct: 50832 loss: 254.9381126910448\n",
            "epoch: 5 total_correct: 51122 loss: 247.7790612578392\n",
            "epoch: 6 total_correct: 51405 loss: 238.3573652356863\n",
            "epoch: 7 total_correct: 51560 loss: 231.8851028829813\n",
            "epoch: 8 total_correct: 51819 loss: 226.14834015071392\n",
            "epoch: 9 total_correct: 51967 loss: 223.02584382891655\n",
            "epoch: 10 total_correct: 52033 loss: 219.26930052042007\n",
            "epoch: 11 total_correct: 52240 loss: 215.77831563353539\n",
            "epoch: 12 total_correct: 52244 loss: 212.96252936124802\n",
            "epoch: 13 total_correct: 52335 loss: 211.89177183806896\n",
            "epoch: 14 total_correct: 52515 loss: 208.60197059810162\n",
            "epoch: 15 total_correct: 52520 loss: 205.50430864095688\n",
            "epoch: 16 total_correct: 52682 loss: 204.10180109739304\n",
            "epoch: 17 total_correct: 52700 loss: 201.97588931024075\n",
            "epoch: 18 total_correct: 52752 loss: 199.46030753850937\n",
            "epoch: 19 total_correct: 52826 loss: 197.8787726163864\n",
            "epoch: 20 total_correct: 52864 loss: 196.6725778579712\n",
            "epoch: 21 total_correct: 52951 loss: 196.079026684165\n",
            "epoch: 22 total_correct: 53009 loss: 195.96760718524456\n",
            "epoch: 23 total_correct: 53175 loss: 192.40439338982105\n",
            "epoch: 24 total_correct: 53137 loss: 192.6731591001153\n",
            "epoch: 25 total_correct: 53109 loss: 191.90777897834778\n",
            "epoch: 26 total_correct: 53140 loss: 188.7620813548565\n",
            "epoch: 27 total_correct: 53216 loss: 188.3654886484146\n",
            "epoch: 28 total_correct: 53141 loss: 190.35390149056911\n",
            "epoch: 29 total_correct: 53376 loss: 185.29591992497444\n",
            "epoch: 30 total_correct: 53343 loss: 184.58965894579887\n",
            "epoch: 31 total_correct: 53288 loss: 186.1752259582281\n",
            "epoch: 32 total_correct: 53383 loss: 183.23796562850475\n",
            "epoch: 33 total_correct: 53439 loss: 183.72639025747776\n",
            "epoch: 34 total_correct: 53483 loss: 181.52812210470438\n",
            "epoch: 35 total_correct: 53444 loss: 181.07653399556875\n",
            "epoch: 36 total_correct: 53506 loss: 181.08892054855824\n",
            "epoch: 37 total_correct: 53490 loss: 182.6898004040122\n",
            "epoch: 38 total_correct: 53637 loss: 179.03471313416958\n",
            "epoch: 39 total_correct: 53461 loss: 181.5712884515524\n",
            "epoch: 40 total_correct: 53580 loss: 180.07672231644392\n",
            "epoch: 41 total_correct: 53612 loss: 176.12235820293427\n",
            "epoch: 42 total_correct: 53484 loss: 180.8394198641181\n",
            "epoch: 43 total_correct: 53694 loss: 175.72914783656597\n",
            "epoch: 44 total_correct: 53605 loss: 176.5725146085024\n",
            "epoch: 45 total_correct: 53683 loss: 176.66096050292253\n",
            "epoch: 46 total_correct: 53712 loss: 176.52021352946758\n",
            "epoch: 47 total_correct: 53734 loss: 175.12982522696257\n",
            "epoch: 48 total_correct: 53763 loss: 174.67240530997515\n",
            "epoch: 49 total_correct: 53767 loss: 176.35836728662252\n"
          ],
          "name": "stdout"
        }
      ]
    },
    {
      "cell_type": "code",
      "metadata": {
        "id": "_ms7yEPJG4M2",
        "colab_type": "code",
        "colab": {}
      },
      "source": [
        ""
      ],
      "execution_count": 0,
      "outputs": []
    },
    {
      "cell_type": "code",
      "metadata": {
        "id": "xEEf1W18ytGb",
        "colab_type": "code",
        "colab": {}
      },
      "source": [
        ""
      ],
      "execution_count": 0,
      "outputs": []
    },
    {
      "cell_type": "code",
      "metadata": {
        "id": "byPsJkSNWm_O",
        "colab_type": "code",
        "outputId": "0558b4c9-fa9f-4d3e-c398-cb463c65ec61",
        "colab": {
          "base_uri": "https://localhost:8080/",
          "height": 1000
        }
      },
      "source": [
        "model.conv1[0].weight"
      ],
      "execution_count": 0,
      "outputs": [
        {
          "output_type": "execute_result",
          "data": {
            "text/plain": [
              "Parameter containing:\n",
              "tensor([[[[-1.7990e-02,  3.0842e-02, -2.3291e-02, -1.4474e-02,  5.0704e-02],\n",
              "          [-3.4958e-02, -4.6800e-02,  4.6592e-02, -5.3254e-02,  3.8517e-02],\n",
              "          [ 9.9543e-02, -2.8296e-02, -1.3046e-01,  2.0390e-02,  1.8859e-01],\n",
              "          [ 2.1782e-01, -9.8338e-02,  1.1958e-01,  1.1983e-01, -1.6653e-01],\n",
              "          [-7.8397e-02,  1.6148e-01,  7.9670e-02, -1.8538e-01, -6.2991e-01]]],\n",
              "\n",
              "\n",
              "        [[[-6.1964e-01, -1.5281e+00, -1.4026e+00, -1.0540e+00, -4.5047e-01],\n",
              "          [ 6.0781e-02, -4.3848e-01, -4.8577e-02,  1.7695e-01,  9.7682e-02],\n",
              "          [ 2.5847e-01,  1.3066e-01, -4.5324e-03, -2.1098e-01,  7.3244e-02],\n",
              "          [ 2.1764e-02, -1.2442e-01, -4.0748e-02,  2.6418e-03, -3.4058e-02],\n",
              "          [ 2.5583e-01,  6.6850e-03, -6.9963e-02, -5.8302e-02, -1.7086e-02]]],\n",
              "\n",
              "\n",
              "        [[[-1.9790e-02, -1.2373e-01,  1.8241e-01,  5.3283e-02,  4.6942e-03],\n",
              "          [-1.7193e-01,  1.7195e-01,  2.3836e-02, -2.1343e-02, -2.8478e-02],\n",
              "          [ 4.5959e-03, -4.5776e-02,  1.6217e-01, -8.3023e-02,  5.8846e-02],\n",
              "          [ 1.6766e-01, -2.4069e-01, -1.3237e-01,  1.4107e-01, -9.0715e-02],\n",
              "          [ 1.5863e-01, -3.4142e-01, -2.9474e-01, -3.8423e-02,  7.6101e-02]]],\n",
              "\n",
              "\n",
              "        [[[-6.0664e-01, -1.2548e-01, -3.2614e-03, -7.3591e-02, -2.0770e-01],\n",
              "          [-7.4849e-02,  2.3250e-02, -1.6991e-01, -1.6183e-01, -2.7188e-01],\n",
              "          [-4.9429e-03,  1.0565e-01,  1.7697e-01,  1.5543e-01,  5.8950e-02],\n",
              "          [-2.7276e-01, -8.2473e-02,  1.8294e-01,  1.6965e-01, -2.6346e-01],\n",
              "          [-2.0569e-01, -6.7713e-03,  2.4748e-01,  1.1215e-01, -1.4328e-01]]],\n",
              "\n",
              "\n",
              "        [[[-6.9551e-02,  1.0684e-01, -6.3119e-02,  2.6462e-01, -1.0970e-01],\n",
              "          [ 3.3763e-01, -7.0951e-02, -2.2777e-01, -6.4468e-02, -1.0177e-01],\n",
              "          [ 6.5704e-02, -3.3928e-01, -2.8531e-01, -1.2043e-02,  7.3496e-02],\n",
              "          [-3.0832e-01, -1.4135e+00, -8.6412e-01, -1.5119e-01,  2.4216e-01],\n",
              "          [-1.3832e-01, -1.2789e-01,  1.2661e-02, -3.3453e-02, -2.6135e-02]]],\n",
              "\n",
              "\n",
              "        [[[-1.9303e-01, -7.3720e-02, -5.7478e-02,  1.8458e-01, -1.5568e-01],\n",
              "          [ 1.7344e-01,  6.4866e-02, -7.7945e-03,  1.0245e-01,  1.0628e-03],\n",
              "          [ 2.1424e-01,  3.0819e-02,  1.1605e-01, -2.3413e-02, -2.9462e-01],\n",
              "          [-1.0953e-01,  1.2594e-01,  1.3806e-01, -1.5688e-01, -6.6227e-01],\n",
              "          [-3.5301e-01,  5.8569e-02, -1.9885e-01, -3.4258e-01, -1.5538e+00]]],\n",
              "\n",
              "\n",
              "        [[[ 1.5860e-01, -2.8367e-01, -7.5872e-02, -2.5373e-02, -1.4502e-02],\n",
              "          [ 1.2315e-01,  8.7185e-02, -1.9451e-01, -1.5915e-01, -5.5298e-02],\n",
              "          [-6.3008e-02,  5.6731e-02, -1.0951e-01,  2.0470e-01,  5.2843e-02],\n",
              "          [ 1.6079e-01, -6.5703e-02, -5.1717e-02,  2.3525e-02,  1.1702e-01],\n",
              "          [ 1.8793e-01, -1.9275e-01,  1.8569e-03,  1.1247e-01, -7.0604e-02]]],\n",
              "\n",
              "\n",
              "        [[[ 2.2111e-02, -9.8096e-02,  9.0345e-02,  1.9177e-02, -1.5414e-01],\n",
              "          [-1.9681e-02,  1.0453e-01, -3.7638e-02,  1.2101e-01, -1.6633e-01],\n",
              "          [ 1.7104e-02,  7.9783e-02, -2.3138e-02,  1.0173e-01, -1.5718e-01],\n",
              "          [ 1.0354e-01, -6.1568e-02,  1.2023e-01,  7.6809e-02, -8.9293e-02],\n",
              "          [-7.6485e-02,  7.6839e-03,  4.5904e-02,  1.4560e-01, -8.6865e-02]]],\n",
              "\n",
              "\n",
              "        [[[-6.0726e-02,  5.8481e-02, -2.2208e-02,  2.8529e-02, -6.8653e-02],\n",
              "          [-5.3089e-02,  6.3413e-02,  1.0971e-01,  1.7487e-01, -1.3007e-01],\n",
              "          [ 2.1796e-01, -4.7396e-02, -2.3169e-01, -4.4474e-02, -5.6849e-03],\n",
              "          [ 3.9143e-02, -1.7618e-01, -1.2344e+00, -1.4678e-01,  1.8626e-01],\n",
              "          [-9.1266e-02, -2.9411e-02, -9.0390e-01, -4.3271e-01, -1.1930e-01]]],\n",
              "\n",
              "\n",
              "        [[[ 8.7647e-02,  5.3222e-02, -2.0960e-01, -2.6019e-02, -8.6334e-02],\n",
              "          [-9.7081e-02,  1.2324e-01,  1.1705e-02,  5.5760e-02, -1.2744e-01],\n",
              "          [ 3.6289e-02,  2.1892e-02, -1.3640e-01,  2.1971e-01, -9.1319e-02],\n",
              "          [-1.0599e-01,  3.9307e-02,  1.2442e-01,  7.4776e-02, -1.5608e-01],\n",
              "          [-1.5015e-02,  1.3205e-01,  2.0728e-01, -3.3339e-01, -3.4952e-03]]],\n",
              "\n",
              "\n",
              "        [[[ 1.7914e-01, -1.5423e-01,  1.0112e-01, -1.0535e-01, -1.4898e-01],\n",
              "          [ 1.3554e-02,  1.2994e-01,  1.0506e-02, -1.8722e-01,  1.0144e-01],\n",
              "          [ 2.0437e-01, -5.0129e-02,  5.6069e-02, -5.2103e-02, -1.5743e-01],\n",
              "          [-5.4299e-02,  1.2656e-02,  1.2849e-01,  4.7852e-02, -2.9374e-02],\n",
              "          [-6.5954e-02, -3.4300e-01, -2.8010e-02,  2.0738e-01,  1.9447e-01]]],\n",
              "\n",
              "\n",
              "        [[[-1.2002e-01, -2.8631e-02, -1.8320e-01, -4.2008e-01, -3.2910e-01],\n",
              "          [-9.1735e-03,  7.2514e-02,  5.7559e-02, -1.9654e-01,  7.5550e-03],\n",
              "          [ 2.7306e-02,  9.6117e-02, -3.1950e-02,  8.6623e-03, -1.0124e-02],\n",
              "          [ 1.8791e-02,  6.5035e-02,  3.0509e-02, -1.4671e-01,  1.2731e-01],\n",
              "          [ 8.4286e-02,  7.4160e-02,  4.5677e-02, -2.1256e-01,  6.0205e-02]]],\n",
              "\n",
              "\n",
              "        [[[-3.9511e-03, -2.9145e-02,  1.8887e-02,  1.1136e-02, -1.2883e-01],\n",
              "          [ 5.5881e-02, -9.4454e-02, -4.1714e-02,  1.7745e-01, -1.4415e-01],\n",
              "          [-4.5773e-02,  1.1150e-01, -1.9595e-02,  1.0106e-01,  9.1192e-03],\n",
              "          [-2.8197e-01,  1.1189e-01, -1.4927e-01,  1.1670e-01,  9.6723e-02],\n",
              "          [ 8.3361e-02, -2.3854e-01, -9.1770e-02, -2.6595e-02,  5.1059e-02]]],\n",
              "\n",
              "\n",
              "        [[[ 6.6565e-02,  1.5794e-01, -1.1691e-01, -1.2553e-01, -9.8340e-02],\n",
              "          [ 1.0129e-01, -1.9986e-01,  1.5890e-01, -9.5098e-02, -1.8384e-01],\n",
              "          [ 1.5562e-01, -5.0618e-02,  6.8474e-02,  1.0935e-01,  3.5858e-02],\n",
              "          [-1.9781e-01,  1.0685e-01, -1.6483e-01,  1.2092e-01,  1.8774e-01],\n",
              "          [-1.9665e-01, -4.3722e-01, -2.0083e-02, -1.9366e-01,  1.2501e-01]]],\n",
              "\n",
              "\n",
              "        [[[-3.5038e-01, -1.2233e+00, -1.5379e+00, -6.4315e-01,  6.5595e-02],\n",
              "          [ 3.3013e-01, -1.6583e-01, -6.8095e-02,  3.7708e-02,  2.2775e-01],\n",
              "          [ 1.1915e-01,  1.6069e-01, -7.3007e-02, -1.2379e-02, -2.4956e-01],\n",
              "          [ 1.6847e-01, -1.4219e-01, -9.1775e-02, -4.4745e-02,  5.8206e-02],\n",
              "          [-1.2454e-01,  2.3678e-01, -1.8802e-02,  1.7904e-01, -1.5634e-01]]],\n",
              "\n",
              "\n",
              "        [[[ 1.3742e-02, -1.3420e-01,  3.0422e-02,  1.0921e-01, -7.7287e-02],\n",
              "          [ 6.2746e-02, -1.7668e-01, -3.3007e-02,  1.4946e-01, -8.5097e-02],\n",
              "          [ 6.8015e-02, -1.5437e-02, -8.6572e-02,  1.4827e-01, -1.1650e-01],\n",
              "          [-9.7118e-02,  1.0666e-01, -1.7252e-01,  1.5052e-01,  5.5664e-02],\n",
              "          [ 1.0173e-01,  1.5403e-01, -9.9062e-02, -1.2518e-02, -1.0805e-01]]]],\n",
              "       device='cuda:0', requires_grad=True)"
            ]
          },
          "metadata": {
            "tags": []
          },
          "execution_count": 50
        }
      ]
    },
    {
      "cell_type": "code",
      "metadata": {
        "id": "UmfAqIeeWuGg",
        "colab_type": "code",
        "outputId": "547c1870-762f-417d-8842-ea77d8610057",
        "colab": {
          "base_uri": "https://localhost:8080/",
          "height": 1000
        }
      },
      "source": [
        "model.conv2[0].weight"
      ],
      "execution_count": 0,
      "outputs": [
        {
          "output_type": "execute_result",
          "data": {
            "text/plain": [
              "Parameter containing:\n",
              "tensor([[[[ 3.6011e-01, -9.5651e-02, -3.0078e-01],\n",
              "          [ 1.1491e-01,  5.3771e-02,  9.2828e-02],\n",
              "          [-3.1269e-01,  2.4944e-01, -1.3578e-01]]],\n",
              "\n",
              "\n",
              "        [[[ 4.0366e-01, -3.7802e-01,  3.3622e-02],\n",
              "          [ 7.2465e-02,  2.3085e-01, -2.2581e-01],\n",
              "          [-3.0494e-01,  7.9709e-02,  1.0205e-01]]],\n",
              "\n",
              "\n",
              "        [[[ 3.0099e-01, -3.0518e-01,  7.1098e-02],\n",
              "          [ 6.1099e-02,  2.9514e-01, -2.9776e-01],\n",
              "          [-2.7994e-01,  1.2829e-01,  9.5965e-02]]],\n",
              "\n",
              "\n",
              "        [[[-1.4330e+00, -2.0537e+00, -3.5803e-01],\n",
              "          [ 1.3617e-01, -3.0113e-01,  1.7119e-02],\n",
              "          [-8.6629e-02,  8.2718e-02,  1.7764e-01]]],\n",
              "\n",
              "\n",
              "        [[[-7.4855e-01, -8.5688e-01, -4.1994e-01],\n",
              "          [-2.6698e-01, -1.7029e+00, -1.5763e+00],\n",
              "          [ 7.9813e-02, -3.5820e-02, -7.6342e-02]]],\n",
              "\n",
              "\n",
              "        [[[-1.0839e+00, -2.0346e+00, -3.2765e-01],\n",
              "          [-1.1894e+00, -6.2630e-01,  1.3458e-01],\n",
              "          [ 1.1373e-02, -1.6681e-01,  1.7190e-01]]],\n",
              "\n",
              "\n",
              "        [[[-8.1927e-02, -1.9978e-01, -7.0156e-02],\n",
              "          [-2.9371e-01, -2.2359e-01, -1.7405e-02],\n",
              "          [ 6.8298e-02, -1.1400e-01, -7.5525e-03]]],\n",
              "\n",
              "\n",
              "        [[[-8.0361e-02,  4.2752e-01, -3.8437e-01],\n",
              "          [ 1.6035e-01, -2.4325e-01,  2.1254e-01],\n",
              "          [ 7.4786e-02, -2.3220e-01,  1.5442e-01]]],\n",
              "\n",
              "\n",
              "        [[[ 1.3480e-01,  1.5971e-01,  7.8462e-02],\n",
              "          [-3.2162e-02, -6.0330e-02, -1.2335e-01],\n",
              "          [-5.0948e-01, -3.0886e-01, -1.5959e-02]]],\n",
              "\n",
              "\n",
              "        [[[ 3.1705e-03, -9.1317e-02,  2.4406e-01],\n",
              "          [-7.7382e-01, -2.3844e+00, -4.5281e-01],\n",
              "          [ 1.2436e-01, -2.9373e-01,  2.2874e-02]]],\n",
              "\n",
              "\n",
              "        [[[-3.4989e-02,  2.9084e-01, -3.3934e-02],\n",
              "          [-8.6208e-01, -7.4286e-01,  3.3755e-01],\n",
              "          [-1.7568e+00, -2.1767e+00, -3.6128e-01]]],\n",
              "\n",
              "\n",
              "        [[[-4.2542e-01,  4.2405e-01,  4.2279e-02],\n",
              "          [ 2.6035e-01,  2.2642e-02,  8.9203e-02],\n",
              "          [ 1.8346e-01, -3.7607e-02, -8.2224e-02]]],\n",
              "\n",
              "\n",
              "        [[[-3.7289e-01, -4.2541e-02,  2.9414e-01],\n",
              "          [ 1.9374e-01, -1.2066e-01,  2.9547e-01],\n",
              "          [ 1.5875e-01,  1.7572e-01, -2.8004e-01]]],\n",
              "\n",
              "\n",
              "        [[[ 8.5295e-02,  2.4260e-01, -2.3060e-01],\n",
              "          [ 4.5388e-02,  1.6594e-01, -1.2904e-01],\n",
              "          [-2.7720e-01, -1.7664e-01,  2.9485e-01]]],\n",
              "\n",
              "\n",
              "        [[[-1.0471e+00, -3.8819e-01,  3.1272e-01],\n",
              "          [-1.9011e-01,  3.0859e-01, -1.4600e-01],\n",
              "          [ 1.1359e-01,  8.1998e-02, -1.7129e-01]]],\n",
              "\n",
              "\n",
              "        [[[-7.9527e-01, -1.1823e+00, -1.1054e+00],\n",
              "          [-1.4288e+00, -1.8763e+00, -5.6080e-01],\n",
              "          [ 3.5581e-02, -1.5238e-01, -1.9122e-03]]]], device='cuda:0',\n",
              "       requires_grad=True)"
            ]
          },
          "metadata": {
            "tags": []
          },
          "execution_count": 52
        }
      ]
    },
    {
      "cell_type": "code",
      "metadata": {
        "id": "r30BLbC3bJDz",
        "colab_type": "code",
        "colab": {}
      },
      "source": [
        ""
      ],
      "execution_count": 0,
      "outputs": []
    }
  ]
}